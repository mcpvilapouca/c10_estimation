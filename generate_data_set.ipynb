{
 "cells": [
  {
   "cell_type": "code",
   "execution_count": 1,
   "id": "35d3bd65",
   "metadata": {},
   "outputs": [],
   "source": [
    "import pandas as pd\n",
    "import random\n",
    "import sympy as sym\n",
    "import numpy as np\n",
    "\n",
    "pd.set_option('display.max_rows', None)"
   ]
  },
  {
   "cell_type": "code",
   "execution_count": 2,
   "id": "efbd677c",
   "metadata": {},
   "outputs": [],
   "source": [
    "#Initial data-----------------------------------------------------------------------------------------------------\n",
    "\n",
    "C10min=0.1     #min C10 value\n",
    "C10max=10.0   #max C10 value\n",
    "decimals=2   #number of decimal cases of C10 variable\n",
    "\n",
    "n=2               #number of C10 variables\n",
    "\n",
    "st=3.0             #applied stretch\n",
    "ninc=100        #number of stretch increments\n",
    "#------------------------------------------------------------------------------------------------------------------"
   ]
  },
  {
   "cell_type": "code",
   "execution_count": 3,
   "id": "4d440e0a",
   "metadata": {},
   "outputs": [],
   "source": [
    "C11 = sym.Symbol('C11')\n",
    "C12 = sym.Symbol('C12')\n",
    "C13 = sym.Symbol('C13')\n",
    "C21 = sym.Symbol('C21')\n",
    "C22 = sym.Symbol('C22')\n",
    "C23 = sym.Symbol('C23')\n",
    "C31 = sym.Symbol('C31')\n",
    "C32 = sym.Symbol('C32')\n",
    "C33 = sym.Symbol('C33')"
   ]
  },
  {
   "cell_type": "code",
   "execution_count": 4,
   "id": "55806dc9",
   "metadata": {},
   "outputs": [],
   "source": [
    "C = sym.Matrix([[C11,C12,C13], [C21,C22,C23], [C31,C32,C33]]) \n",
    "I1=sym.trace(C)\n",
    "Jac=sym.det(C)\n",
    "\n",
    "#symbolic C10\n",
    "C10s = sym.Symbol('C10s')\n",
    "\n",
    "#Generate SEF\n",
    "SEF=C10s*(I1-3)\n",
    "#\n",
    "#Second Piola Kirchoff Stresses\n",
    "S11=2*sym.diff(SEF,C11)\n",
    "S12=2*sym.diff(SEF,C12)\n",
    "S13=2*sym.diff(SEF,C13)\n",
    "S21=2*sym.diff(SEF,C21)\n",
    "S22=2*sym.diff(SEF,C22)\n",
    "S23=2*sym.diff(SEF,C23)\n",
    "S31=2*sym.diff(SEF,C31)\n",
    "S32=2*sym.diff(SEF,C32)\n",
    "S33=2*sym.diff(SEF,C33)\n",
    "#\n",
    "S = sym.Matrix([[S11,S12,S13], [S21,S22,S23], [S31,S32,S33]])"
   ]
  },
  {
   "cell_type": "code",
   "execution_count": 5,
   "id": "6df90515",
   "metadata": {},
   "outputs": [],
   "source": [
    "#Generate non duplicate random increments and store them in a dataframe\n",
    "#nincdf = pd.DataFrame(np.round(np.random.uniform(min_inc, max_inc, size=(n, 1)), 0),columns=['ninc'])"
   ]
  },
  {
   "cell_type": "code",
   "execution_count": 6,
   "id": "57769d32",
   "metadata": {},
   "outputs": [],
   "source": [
    "#Generate non duplicate random C10 and store them in a dataframe\n",
    "C10df = pd.DataFrame(np.round(np.random.uniform(C10min, C10max, size=(n, 1)), decimals),columns=['C10'])\n",
    "\n",
    "#remove duplicates and complete list\n",
    "C10df=C10df.drop_duplicates()\n",
    "missing=n-C10df.shape[0]\n",
    "\n",
    "while missing!=0:\n",
    "    new = pd.DataFrame(np.round(np.random.uniform(C10min, C10max, size=(missing, 1)), decimals),columns=['C10'])\n",
    "    C10df=pd.concat([C10df,new], axis=0)\n",
    "    C10df=C10df.reset_index(drop=True)\n",
    "    C10df=C10df.drop_duplicates()\n",
    "    missing=n-C10df.shape[0]"
   ]
  },
  {
   "cell_type": "code",
   "execution_count": 10,
   "id": "bef0c453",
   "metadata": {},
   "outputs": [],
   "source": [
    "#Calculate stresses\n",
    "df2 = pd.DataFrame(index=[0], columns=['data', 'C10'])\n",
    "for i in range(len(C10df)):\n",
    "    a = np.empty((ninc, 2))\n",
    "    dst=(st-1)/ninc   #nincdf.ninc[i]\n",
    "    stj=1.0\n",
    "    if i==0:\n",
    "        c=0\n",
    "    else:\n",
    "        c=c+ninc  #nincdf.ninc[i-1]\n",
    "    for j in range(int(ninc)):   #int(nincdf.ninc[i])\n",
    "        k=c+j\n",
    "        stj=stj+dst\n",
    "        #Deformation Gradient\n",
    "        F=sym.Matrix([[1/(np.sqrt(stj)),0,0], [0,stj,0], [0,0,1/(np.sqrt(stj))]]) \n",
    "        Ft=sym.transpose(F)\n",
    "        C=Ft*F;\n",
    "\n",
    "        C11v=C[0,0];\n",
    "        C12v=C[0,1];\n",
    "        C13v=C[0,2];\n",
    "        C21v=C[1,0];\n",
    "        C22v=C[1,1];\n",
    "        C23v=C[1,2];\n",
    "        C31v=C[2,0];\n",
    "        C32v=C[2,1];\n",
    "        C33v=C[2,2];\n",
    "\n",
    "        Cauchy=(1/Jac)*(F*S*Ft)\n",
    "    \n",
    "        Stress22_Abaqus=Cauchy[1,1]-Cauchy[0,0]\n",
    "    \n",
    "        Cauchy_Abaqus=sym.Matrix([[0,0,0], [0, Stress22_Abaqus,0], [0,0,0]]) \n",
    "        \n",
    "        s22_val=Stress22_Abaqus.subs([(C11, C11v), (C12, C12v), \n",
    "                                                         (C13, C13v),(C21, C21v), \n",
    "                                                         (C22, C22v), (C23, C23v),\n",
    "                                                         (C31, C31v), (C32, C32v), \n",
    "                                                         (C33, C33v),(C10s,C10df.C10[i])])\n",
    "        #store the data in a numpy array\n",
    "        a[j,0]=stj\n",
    "        a[j,1]=s22_val\n",
    "        \n",
    "    #within i loop store the numpy array into dataframe\n",
    "    df2.loc[i, 'data'] = a\n",
    "    df2.loc[i, 'C10'] = C10df.C10[i]\n",
    "\n",
    "#print('-----Data----')\n",
    "#print(df)"
   ]
  },
  {
   "cell_type": "code",
   "execution_count": null,
   "id": "60cc00ae",
   "metadata": {},
   "outputs": [],
   "source": []
  },
  {
   "cell_type": "code",
   "execution_count": 8,
   "id": "577166e8",
   "metadata": {},
   "outputs": [],
   "source": [
    "#Save data in a .csv file\n",
    "df2.to_csv('df2.csv', index=False, header=True)"
   ]
  },
  {
   "cell_type": "code",
   "execution_count": null,
   "id": "e9696500",
   "metadata": {},
   "outputs": [],
   "source": [
    "#old code\n",
    "#Calculate stresses\n",
    "df= pd.DataFrame()\n",
    "for i in range(len(C10df)):\n",
    "    dst=(st-1)/ninc   #nincdf.ninc[i]\n",
    "    stj=1.0\n",
    "    if i==0:\n",
    "        c=0\n",
    "    else:\n",
    "        c=c+ninc  #nincdf.ninc[i-1]\n",
    "    for j in range(int(ninc)):   #int(nincdf.ninc[i])\n",
    "        k=c+j\n",
    "        stj=stj+dst\n",
    "        #Deformation Gradient\n",
    "        F=sym.Matrix([[1/(np.sqrt(stj)),0,0], [0,stj,0], [0,0,1/(np.sqrt(stj))]]) \n",
    "        Ft=sym.transpose(F)\n",
    "        C=Ft*F;\n",
    "\n",
    "        C11v=C[0,0];\n",
    "        C12v=C[0,1];\n",
    "        C13v=C[0,2];\n",
    "        C21v=C[1,0];\n",
    "        C22v=C[1,1];\n",
    "        C23v=C[1,2];\n",
    "        C31v=C[2,0];\n",
    "        C32v=C[2,1];\n",
    "        C33v=C[2,2];\n",
    "\n",
    "        Cauchy=(1/Jac)*(F*S*Ft)\n",
    "    \n",
    "        Stress22_Abaqus=Cauchy[1,1]-Cauchy[0,0]\n",
    "    \n",
    "        Cauchy_Abaqus=sym.Matrix([[0,0,0], [0, Stress22_Abaqus,0], [0,0,0]]) \n",
    "        \n",
    "        df.at[k,'stretch']=stj\n",
    "        df.at[k,'stress']=Stress22_Abaqus.subs([(C11, C11v), (C12, C12v), \n",
    "                                                         (C13, C13v),(C21, C21v), \n",
    "                                                         (C22, C22v), (C23, C23v),\n",
    "                                                         (C31, C31v), (C32, C32v), \n",
    "                                                         (C33, C33v),(C10s,C10df.C10[i])])\n",
    "        df.at[k,'C10']=C10df.C10[i]\n",
    "\n",
    "#print('-----Data----')\n",
    "#print(df)"
   ]
  },
  {
   "cell_type": "code",
   "execution_count": 8,
   "id": "a32ff9e7",
   "metadata": {},
   "outputs": [],
   "source": [
    "#Save data in a .csv file\n",
    "#df.to_csv('df.csv', index=False, header=True)"
   ]
  },
  {
   "cell_type": "code",
   "execution_count": null,
   "id": "62be0144",
   "metadata": {},
   "outputs": [],
   "source": []
  },
  {
   "cell_type": "code",
   "execution_count": null,
   "id": "bda2f635",
   "metadata": {},
   "outputs": [],
   "source": []
  },
  {
   "cell_type": "code",
   "execution_count": null,
   "id": "2c3228b1",
   "metadata": {},
   "outputs": [],
   "source": []
  },
  {
   "cell_type": "code",
   "execution_count": null,
   "id": "8df0fa96",
   "metadata": {},
   "outputs": [],
   "source": []
  },
  {
   "cell_type": "code",
   "execution_count": null,
   "id": "3ed82f62",
   "metadata": {},
   "outputs": [],
   "source": []
  },
  {
   "cell_type": "code",
   "execution_count": null,
   "id": "14b903c0",
   "metadata": {},
   "outputs": [],
   "source": []
  },
  {
   "cell_type": "code",
   "execution_count": null,
   "id": "dd177a62",
   "metadata": {},
   "outputs": [],
   "source": []
  }
 ],
 "metadata": {
  "kernelspec": {
   "display_name": "Python 3 (ipykernel)",
   "language": "python",
   "name": "python3"
  },
  "language_info": {
   "codemirror_mode": {
    "name": "ipython",
    "version": 3
   },
   "file_extension": ".py",
   "mimetype": "text/x-python",
   "name": "python",
   "nbconvert_exporter": "python",
   "pygments_lexer": "ipython3",
   "version": "3.8.2"
  }
 },
 "nbformat": 4,
 "nbformat_minor": 5
}
