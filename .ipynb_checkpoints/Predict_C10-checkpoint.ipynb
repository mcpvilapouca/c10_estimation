{
 "cells": [
  {
   "cell_type": "code",
   "execution_count": 70,
   "id": "a95da402",
   "metadata": {},
   "outputs": [],
   "source": [
    "import numpy as np\n",
    "import pandas as pd\n",
    "import tensorflow as tf\n",
    "from sklearn.model_selection import ShuffleSplit\n",
    "from sklearn.preprocessing import MaxAbsScaler\n",
    "from tensorflow.keras import layers, callbacks, Sequential\n",
    "import matplotlib.pyplot as plt\n",
    "from sklearn.metrics import mean_absolute_error\n",
    "from matplotlib.pyplot import figure\n",
    "from sklearn.model_selection import train_test_split\n",
    "import keras\n",
    "from keras.models import Sequential\n",
    "from keras.layers import Dense, Dropout, Flatten, Reshape, GlobalAveragePooling1D\n",
    "from keras.layers import Conv2D, MaxPooling2D, Conv1D, MaxPooling1D\n",
    "from keras.utils import np_utils\n",
    "\n",
    "# Set Matplotlib defaults\n",
    "plt.rc('figure', autolayout=True)\n",
    "plt.rc('axes', labelweight='bold', labelsize='large',\n",
    "       titleweight='bold', titlesize=18, titlepad=10)\n",
    "plt.rc('animation', html='html5')\n",
    "# Set display dataframe\n",
    "pd.set_option('display.max_rows', None)\n"
   ]
  },
  {
   "cell_type": "code",
   "execution_count": 71,
   "id": "3837e1bb",
   "metadata": {},
   "outputs": [],
   "source": [
    "def feature_normalize(dataset):\n",
    "\n",
    "    mu = np.mean(dataset, axis=0)\n",
    "    sigma = np.std(dataset, axis=0)\n",
    "    dataset_normalize=(dataset - mu)/sigma\n",
    "    return dataset_normalize"
   ]
  },
  {
   "cell_type": "code",
   "execution_count": 72,
   "id": "f3ce3b5d",
   "metadata": {},
   "outputs": [],
   "source": [
    "def feature_normalize_withinlimits(dataset):\n",
    "\n",
    "    maxdf = np.max(dfx, axis=0)\n",
    "    mindf = np.min(dfx, axis=0)\n",
    "    dataset_normalize=(dataset - mindf)/maxdf\n",
    "    return dataset_normalize"
   ]
  },
  {
   "cell_type": "code",
   "execution_count": 73,
   "id": "e5b8ba62",
   "metadata": {},
   "outputs": [],
   "source": [
    "def feature_normalize_maxval(dataset):\n",
    "\n",
    "    maxdf = np.max(dfx, axis=0)\n",
    "    dataset_normalize=(dataset)/maxdf\n",
    "    \n",
    "    return dataset_normalize"
   ]
  },
  {
   "cell_type": "code",
   "execution_count": 74,
   "id": "827cb568",
   "metadata": {},
   "outputs": [],
   "source": [
    "def absolute_error(y_test,y_predictions):\n",
    "    diff=y_test-y_predictions.flatten()\n",
    "    abserror=np.absolute(diff)\n",
    "    return abserror"
   ]
  },
  {
   "cell_type": "code",
   "execution_count": 75,
   "id": "34416d34",
   "metadata": {},
   "outputs": [],
   "source": [
    "a=np.loadtxt('a.csv')\n",
    "b=np.loadtxt('b.csv')\n",
    "c=np.loadtxt('m.csv')\n",
    "a = a.astype(\"float32\")\n",
    "b = b.astype(\"float32\")\n",
    "c = c.astype(\"float32\")"
   ]
  },
  {
   "cell_type": "code",
   "execution_count": 76,
   "id": "80e2fa72",
   "metadata": {},
   "outputs": [
    {
     "name": "stdout",
     "output_type": "stream",
     "text": [
      "\n",
      "--- Check for Nans ---\n",
      "\n",
      "a:  False\n",
      "b:  False\n",
      "c:  False\n"
     ]
    }
   ],
   "source": [
    "#Check  for nan : if True there is an error!\n",
    "array_has_nana = np.isnan(np.sum(a))\n",
    "array_has_nanb = np.isnan(np.sum(b))\n",
    "array_has_nanc = np.isnan(np.sum(c))\n",
    "\n",
    "print(\"\\n--- Check for Nans ---\\n\")\n",
    "print(\"a: \",array_has_nana)\n",
    "print(\"b: \",array_has_nanb)\n",
    "print(\"c: \",array_has_nanc)"
   ]
  },
  {
   "cell_type": "code",
   "execution_count": 77,
   "id": "548a9b72",
   "metadata": {},
   "outputs": [],
   "source": [
    "test_data = np.empty((a.shape[0],a.shape[1],2))\n",
    "test_data[:,:,0]=a\n",
    "test_data[:,:,1]=b\n",
    "\n",
    "test_labels=c"
   ]
  },
  {
   "cell_type": "code",
   "execution_count": 78,
   "id": "c250e429",
   "metadata": {},
   "outputs": [],
   "source": [
    "X=test_data\n",
    "y=test_labels"
   ]
  },
  {
   "cell_type": "code",
   "execution_count": 54,
   "id": "da059e6d",
   "metadata": {},
   "outputs": [],
   "source": [
    "ninc=X.shape[1]\n",
    "nsamples=X.shape[0]\n",
    "\n",
    "#Normalize Stress Data\n",
    "dfy_tot=pd.DataFrame()\n",
    "for i in range(nsamples):\n",
    "    \n",
    "    dfy=pd.DataFrame(X[i,:,1])\n",
    "    dfy_tot=dfy_tot.append(dfy)\n",
    "    \n",
    "#Normalize Stress Data\n",
    "dfy_tot=dfy_tot/np.max(dfy_tot, axis=0)\n",
    "dfy_tot = dfy_tot.round(6)  #round for  6 decimal cases\n",
    "dfy_tot=dfy_tot.reset_index(drop=True)\n",
    "\n",
    "for i in range(nsamples):\n",
    "    dfy=dfy_tot[ninc*i:ninc*i+ninc-1]   \n",
    "    X[i,0:ninc-1,1]=np.squeeze(dfy.to_numpy())"
   ]
  },
  {
   "cell_type": "code",
   "execution_count": 79,
   "id": "85138243",
   "metadata": {},
   "outputs": [
    {
     "name": "stdout",
     "output_type": "stream",
     "text": [
      "\n",
      "--- Number of Samples of Dataset (different C10) ---\n",
      "500\n",
      "\n",
      "--- Number of time steps (ninc) ---\n",
      "100\n",
      "\n",
      "--- Number of features (stretch and stress) ---\n",
      "2\n"
     ]
    }
   ],
   "source": [
    "#Number of Samples of dataset\n",
    "print(\"\\n--- Number of Samples of Dataset (different C10) ---\")\n",
    "print(X.shape[0])\n",
    "print(\"\\n--- Number of time steps (ninc) ---\")\n",
    "print(X.shape[1])\n",
    "print(\"\\n--- Number of features (stretch and stress) ---\")\n",
    "print(X.shape[2])"
   ]
  },
  {
   "cell_type": "code",
   "execution_count": 80,
   "id": "18373e17",
   "metadata": {},
   "outputs": [],
   "source": [
    "#Create test set  (10%)\n",
    "x_train, x_test, y_train, y_test = train_test_split(X, y,test_size=0.1)"
   ]
  },
  {
   "cell_type": "code",
   "execution_count": 81,
   "id": "a421de87",
   "metadata": {},
   "outputs": [],
   "source": [
    "#Create validate (20%) and training set  (70%)\n",
    "x_train, x_val, y_train, y_val = train_test_split(x_train, y_train,test_size=0.2)"
   ]
  },
  {
   "cell_type": "code",
   "execution_count": 82,
   "id": "79ee6143",
   "metadata": {},
   "outputs": [
    {
     "name": "stdout",
     "output_type": "stream",
     "text": [
      "\n",
      "--- Shape of Dataset ---\n",
      "\n",
      "x_train  (360, 100, 2)\n",
      "y_train  (360,) \n",
      "\n",
      "x_val  (90, 100, 2)\n",
      "y_val  (90,) \n",
      "\n",
      "x_test  (50, 100, 2)\n",
      "y_test  (50,)\n"
     ]
    }
   ],
   "source": [
    "#Check Shapes of dataset\n",
    "print(\"\\n--- Shape of Dataset ---\\n\")\n",
    "print(\"x_train \",x_train.shape)\n",
    "print(\"y_train \",y_train.shape,\"\\n\")\n",
    "print(\"x_val \",x_val.shape)\n",
    "print(\"y_val \",y_val.shape,\"\\n\")\n",
    "print(\"x_test \",x_test.shape)\n",
    "print(\"y_test \",y_test.shape)"
   ]
  },
  {
   "cell_type": "code",
   "execution_count": 83,
   "id": "2a611496",
   "metadata": {},
   "outputs": [],
   "source": [
    "# Set input_shape / reshape for Keras\n",
    "# Remark:  data is concatenated in one array in order to feed\n",
    "# it properly into coreml later, the preferred matrix of shape [ntimesteps,nfeatures]\n",
    "# cannot be read in with the current version of coreml (see also reshape\n",
    "# layer as the first layer in the keras model)\n",
    "\n",
    "num_time_periods, num_features = x_train.shape[1], x_train.shape[2]\n",
    "\n",
    "input_shape = (num_time_periods*num_features)\n",
    "\n",
    "x_train = x_train.reshape(x_train.shape[0], input_shape)\n",
    "\n",
    "x_val = x_val.reshape(x_val.shape[0], input_shape)\n",
    "\n",
    "x_test = x_test.reshape(x_test.shape[0], input_shape)"
   ]
  },
  {
   "cell_type": "code",
   "execution_count": 84,
   "id": "d3e60be5",
   "metadata": {},
   "outputs": [
    {
     "name": "stdout",
     "output_type": "stream",
     "text": [
      "\n",
      "--- Shape of Dataset ---\n",
      "\n",
      "x_train  (360, 200)\n",
      "y_train  (360,) \n",
      "\n",
      "x_val  (90, 200)\n",
      "y_val  (90,) \n",
      "\n",
      "x_test  (50, 200)\n",
      "y_test  (50,)\n"
     ]
    }
   ],
   "source": [
    "#Check Reshapes of dataset\n",
    "print(\"\\n--- Shape of Dataset ---\\n\")\n",
    "print(\"x_train \",x_train.shape)\n",
    "print(\"y_train \",y_train.shape,\"\\n\")\n",
    "print(\"x_val \",x_val.shape)\n",
    "print(\"y_val \",y_val.shape,\"\\n\")\n",
    "print(\"x_test \",x_test.shape)\n",
    "print(\"y_test \",y_test.shape)"
   ]
  },
  {
   "cell_type": "code",
   "execution_count": 85,
   "id": "a9fe2a91",
   "metadata": {},
   "outputs": [],
   "source": [
    "#convert to float32\n",
    "\n",
    "x_train = x_train.astype(\"float32\")\n",
    "y_train = y_train.astype(\"float32\")\n",
    "\n",
    "x_val = x_val.astype(\"float32\")\n",
    "y_val = y_val.astype(\"float32\")\n",
    "\n",
    "x_test = x_test.astype(\"float32\")\n",
    "y_test = y_test.astype(\"float32\")"
   ]
  },
  {
   "cell_type": "code",
   "execution_count": 86,
   "id": "e1f5b108",
   "metadata": {},
   "outputs": [
    {
     "name": "stdout",
     "output_type": "stream",
     "text": [
      "\n",
      "--- Create neural network model ---\n",
      "\n",
      "Model: \"sequential_2\"\n",
      "_________________________________________________________________\n",
      " Layer (type)                Output Shape              Param #   \n",
      "=================================================================\n",
      " reshape_1 (Reshape)         (None, 100, 2)            0         \n",
      "                                                                 \n",
      " conv1d_4 (Conv1D)           (None, 91, 100)           2100      \n",
      "                                                                 \n",
      " conv1d_5 (Conv1D)           (None, 82, 100)           100100    \n",
      "                                                                 \n",
      " max_pooling1d_1 (MaxPooling  (None, 27, 100)          0         \n",
      " 1D)                                                             \n",
      "                                                                 \n",
      " conv1d_6 (Conv1D)           (None, 18, 160)           160160    \n",
      "                                                                 \n",
      " conv1d_7 (Conv1D)           (None, 9, 160)            256160    \n",
      "                                                                 \n",
      " global_average_pooling1d_1   (None, 160)              0         \n",
      " (GlobalAveragePooling1D)                                        \n",
      "                                                                 \n",
      " dropout_1 (Dropout)         (None, 160)               0         \n",
      "                                                                 \n",
      " dense_1 (Dense)             (None, 1)                 161       \n",
      "                                                                 \n",
      "=================================================================\n",
      "Total params: 518,681\n",
      "Trainable params: 518,681\n",
      "Non-trainable params: 0\n",
      "_________________________________________________________________\n",
      "None\n"
     ]
    }
   ],
   "source": [
    "print(\"\\n--- Create neural network model ---\\n\")\n",
    "\n",
    "# 1D CNN neural network\n",
    "model_m = Sequential()\n",
    "model_m.add(Reshape((num_time_periods, num_features), input_shape=(input_shape,)))\n",
    "model_m.add(Conv1D(100, 10, activation='relu', input_shape=(num_time_periods, num_features)))\n",
    "model_m.add(Conv1D(100, 10, activation='relu'))\n",
    "model_m.add(MaxPooling1D(3))\n",
    "model_m.add(Conv1D(160, 10, activation='relu'))\n",
    "model_m.add(Conv1D(160, 10, activation='relu'))\n",
    "model_m.add(GlobalAveragePooling1D())\n",
    "model_m.add(Dropout(0.5))\n",
    "model_m.add(Dense(1))\n",
    "print(model_m.summary())"
   ]
  },
  {
   "cell_type": "code",
   "execution_count": 87,
   "id": "042b996d",
   "metadata": {},
   "outputs": [],
   "source": [
    "callbacks_list = [\n",
    "    keras.callbacks.ModelCheckpoint(\n",
    "        filepath='best_model.{epoch:02d}-{val_loss:.2f}.h5',\n",
    "        monitor='val_loss', save_best_only=True),\n",
    "    keras.callbacks.EarlyStopping(monitor='loss', patience=15)\n",
    "]\n",
    "\n",
    "#model_m.compile(loss='mae',\n",
    "#                optimizer='adam', metrics=['mae'])\n",
    "\n",
    "model_m.compile(loss='mean_squared_error', optimizer='rmsprop',metrics='mae')\n",
    "\n",
    "# Hyper-parameters\n",
    "BATCH_SIZE = 50\n",
    "EPOCHS = 100\n",
    "\n",
    "# Enable validation to use ModelCheckpoint and EarlyStopping callbacks.\n",
    "history = model_m.fit(x_train,\n",
    "                      y_train,\n",
    "                      batch_size=BATCH_SIZE,\n",
    "                      epochs=EPOCHS,\n",
    "                      callbacks=callbacks_list,\n",
    "                      validation_data=(x_val,y_val),\n",
    "                      verbose=0)"
   ]
  },
  {
   "cell_type": "code",
   "execution_count": 88,
   "id": "f6cf193f",
   "metadata": {},
   "outputs": [
    {
     "name": "stdout",
     "output_type": "stream",
     "text": [
      "\n",
      "--- Learning curve of model training ---\n",
      "\n"
     ]
    },
    {
     "data": {
      "image/png": "[encoded data removed]",
      "text/plain": [
       "<Figure size 432x288 with 1 Axes>"
      ]
     },
     "metadata": {
      "needs_background": "light"
     },
     "output_type": "display_data"
    }
   ],
   "source": [
    "print(\"\\n--- Learning curve of model training ---\\n\")\n",
    "\n",
    "# summarize history for accuracy and loss\n",
    "plt.figure(figsize=(6, 4))\n",
    "plt.plot(history.history['loss'], \"r--\", label=\"Loss of training data\")\n",
    "plt.plot(history.history['val_loss'], \"r\", label=\"Loss of validation data\")\n",
    "plt.title('Model  Loss')\n",
    "plt.ylabel('Loss')\n",
    "plt.xlabel('Training Epoch')\n",
    "plt.ylim(0,10)\n",
    "plt.legend()\n",
    "plt.show()"
   ]
  },
  {
   "cell_type": "code",
   "execution_count": 89,
   "id": "414ad21d",
   "metadata": {
    "scrolled": true
   },
   "outputs": [
    {
     "name": "stdout",
     "output_type": "stream",
     "text": [
      "2/2 [==============================] - 0s 9ms/step - loss: 0.1824 - mae: 0.3835\n"
     ]
    }
   ],
   "source": [
    "score = model_m.evaluate(x_test, y_test, verbose=1)\n",
    "\n",
    "y_pred_test = model_m.predict(x_test)"
   ]
  },
  {
   "cell_type": "code",
   "execution_count": 90,
   "id": "7aaf6010",
   "metadata": {},
   "outputs": [
    {
     "name": "stdout",
     "output_type": "stream",
     "text": [
      "The mean absolute error is:\n",
      "0.38349873\n"
     ]
    }
   ],
   "source": [
    "print(\"The mean absolute error is:\")\n",
    "print(mean_absolute_error(y_test, y_pred_test))"
   ]
  },
  {
   "cell_type": "code",
   "execution_count": 91,
   "id": "2a344cb7",
   "metadata": {},
   "outputs": [
    {
     "data": {
      "image/png": "[encoded data removed]",
      "text/plain": [
       "<Figure size 432x288 with 1 Axes>"
      ]
     },
     "metadata": {
      "needs_background": "light"
     },
     "output_type": "display_data"
    }
   ],
   "source": [
    "#Absolute errors:\n",
    "abs_er=absolute_error(y_test,y_pred_test)\n",
    "\n",
    "t = np.arange(1,y_test.shape[0]+1, 1)\n",
    "\n",
    "# plot absolute loss\n",
    "\n",
    "plt.figure(figsize=(6, 4))\n",
    "plt.plot(t,abs_er,'g',markersize=5,marker='o', label=\"absolute error\")\n",
    "plt.title('Model  Loss')\n",
    "plt.ylabel('Absolute Error')\n",
    "plt.xlabel('Samples')\n",
    "plt.legend()\n",
    "plt.show()"
   ]
  },
  {
   "cell_type": "code",
   "execution_count": 92,
   "id": "1f7d91d2",
   "metadata": {},
   "outputs": [
    {
     "data": {
      "image/png": "[encoded data removed]",
      "text/plain": [
       "<Figure size 720x576 with 1 Axes>"
      ]
     },
     "metadata": {
      "needs_background": "light"
     },
     "output_type": "display_data"
    }
   ],
   "source": [
    "SMALL_SIZE = 10\n",
    "MEDIUM_SIZE = 14\n",
    "BIGGER_SIZE = 30\n",
    "\n",
    "plt.rc('font', size=SMALL_SIZE)          # controls default text sizes\n",
    "plt.rc('axes', titlesize=SMALL_SIZE)     # fontsize of the axes title\n",
    "plt.rc('axes', labelsize=MEDIUM_SIZE)    # fontsize of the x and y labels\n",
    "plt.rc('xtick', labelsize=SMALL_SIZE)    # fontsize of the tick labels\n",
    "plt.rc('ytick', labelsize=SMALL_SIZE)    # fontsize of the tick labels\n",
    "plt.rc('legend', fontsize=SMALL_SIZE)    # legend fontsize\n",
    "plt.rc('figure', titlesize=BIGGER_SIZE)  # fontsize of the figure title\n",
    "\n",
    "t = np.arange(1,y_test.shape[0]+1, 1)\n",
    "\n",
    "f = plt.figure()\n",
    "f.set_figwidth(10)\n",
    "f.set_figheight(8)\n",
    "\n",
    "\n",
    "plt.plot(t,y_pred_test,'r^',markersize=8, label=\"predictions\")\n",
    "plt.plot(t,y_test,'g+',markersize=8,label=\"real values\")\n",
    "\n",
    "plt.legend()\n",
    "plt.title('Real and Predictions C10 Parameter')\n",
    "plt.ylabel(\"C10 Parameter\")\n",
    "plt.xlabel(\"Previsions\")\n",
    "plt.ylim(0,5)\n",
    "plt.xlim(0.9,t.shape[0]+0.1)\n",
    "\n",
    "plt.show()\n"
   ]
  },
  {
   "cell_type": "code",
   "execution_count": null,
   "id": "2e53d08b",
   "metadata": {},
   "outputs": [],
   "source": []
  },
  {
   "cell_type": "code",
   "execution_count": null,
   "id": "7bbae449",
   "metadata": {},
   "outputs": [],
   "source": []
  },
  {
   "cell_type": "code",
   "execution_count": null,
   "id": "1c58753e",
   "metadata": {},
   "outputs": [],
   "source": []
  },
  {
   "cell_type": "code",
   "execution_count": null,
   "id": "643cddfe",
   "metadata": {},
   "outputs": [],
   "source": []
  },
  {
   "cell_type": "code",
   "execution_count": null,
   "id": "65520e95",
   "metadata": {},
   "outputs": [],
   "source": []
  },
  {
   "cell_type": "code",
   "execution_count": null,
   "id": "21f04dd1",
   "metadata": {},
   "outputs": [],
   "source": []
  },
  {
   "cell_type": "code",
   "execution_count": null,
   "id": "c914ce1a",
   "metadata": {},
   "outputs": [],
   "source": []
  }
 ],
 "metadata": {
  "kernelspec": {
   "display_name": "venv",
   "language": "python",
   "name": "venv"
  },
  "language_info": {
   "codemirror_mode": {
    "name": "ipython",
    "version": 3
   },
   "file_extension": ".py",
   "mimetype": "text/x-python",
   "name": "python",
   "nbconvert_exporter": "python",
   "pygments_lexer": "ipython3",
   "version": "3.8.2"
  }
 },
 "nbformat": 4,
 "nbformat_minor": 5
}
