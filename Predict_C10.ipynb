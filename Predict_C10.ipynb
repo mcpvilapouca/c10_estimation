{
 "cells": [
  {
   "cell_type": "code",
   "execution_count": 5,
   "id": "a95da402",
   "metadata": {},
   "outputs": [],
   "source": [
    "import numpy as np\n",
    "import pandas as pd\n",
    "from sklearn.model_selection import GroupShuffleSplit\n",
    "pd.set_option('display.max_rows', None)"
   ]
  },
  {
   "cell_type": "code",
   "execution_count": 6,
   "id": "d3e26924",
   "metadata": {},
   "outputs": [
    {
     "name": "stdout",
     "output_type": "stream",
     "text": [
      "     stretch     stress  C10\n",
      "0   1.166667   5.342063  5.3\n",
      "1   1.333333  10.894444  5.3\n",
      "2   1.500000  16.783333  5.3\n",
      "3   1.666667  23.084444  5.3\n",
      "4   1.833333  29.845960  5.3\n",
      "5   2.000000  37.100000  5.3\n",
      "6   2.166667  44.868803  5.3\n",
      "7   2.333333  53.168254  5.3\n",
      "8   2.500000  62.010000  5.3\n",
      "9   2.666667  71.402778  5.3\n",
      "10  2.833333  81.353268  5.3\n",
      "11  3.000000  91.866667  5.3\n",
      "12  1.111111   2.676543  4.0\n",
      "13  1.222222   5.405163  4.0\n",
      "14  1.333333   8.222222  4.0\n",
      "15  1.444444  11.152896  4.0\n",
      "16  1.555556  14.215168  4.0\n",
      "17  1.666667  17.422222  4.0\n",
      "18  1.777778  20.783951  4.0\n",
      "19  1.888889  24.307916  4.0\n",
      "20  2.000000  28.000000  4.0\n",
      "21  2.111111  31.864847  4.0\n",
      "22  2.222222  35.906173  4.0\n",
      "23  2.333333  40.126984  4.0\n",
      "24  2.444444  44.529742  4.0\n",
      "25  2.555556  49.116479  4.0\n",
      "26  2.666667  53.888889  4.0\n",
      "27  2.777778  58.848395  4.0\n",
      "28  2.888889  63.996201  4.0\n",
      "29  3.000000  69.333333  4.0\n"
     ]
    }
   ],
   "source": [
    "df = pd.read_csv('df.csv')\n",
    "print(df)"
   ]
  },
  {
   "cell_type": "code",
   "execution_count": 7,
   "id": "7c9c35e4",
   "metadata": {},
   "outputs": [],
   "source": [
    "#Shuffle and Separate into test and train series by C10\n",
    "train_inds, test_inds  = next(GroupShuffleSplit(test_size=0.1, n_splits=1, random_state = None).split(df, groups=df.C10))"
   ]
  },
  {
   "cell_type": "code",
   "execution_count": 9,
   "id": "db5cce28",
   "metadata": {},
   "outputs": [
    {
     "name": "stdout",
     "output_type": "stream",
     "text": [
      "[12 13 14 15 16 17 18 19 20 21 22 23 24 25 26 27 28 29]\n"
     ]
    }
   ],
   "source": [
    "print(train_inds)"
   ]
  },
  {
   "cell_type": "code",
   "execution_count": null,
   "id": "1f7d91d2",
   "metadata": {},
   "outputs": [],
   "source": []
  },
  {
   "cell_type": "code",
   "execution_count": null,
   "id": "0f916997",
   "metadata": {},
   "outputs": [],
   "source": [
    "\n"
   ]
  }
 ],
 "metadata": {
  "kernelspec": {
   "display_name": "Python 3 (ipykernel)",
   "language": "python",
   "name": "python3"
  },
  "language_info": {
   "codemirror_mode": {
    "name": "ipython",
    "version": 3
   },
   "file_extension": ".py",
   "mimetype": "text/x-python",
   "name": "python",
   "nbconvert_exporter": "python",
   "pygments_lexer": "ipython3",
   "version": "3.8.2"
  }
 },
 "nbformat": 4,
 "nbformat_minor": 5
}
